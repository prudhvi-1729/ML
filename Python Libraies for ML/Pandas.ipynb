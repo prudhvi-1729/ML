{
 "cells": [
  {
   "cell_type": "markdown",
   "metadata": {},
   "source": [
    "# A Brief Intro to Pandas"
   ]
  },
  {
   "cell_type": "markdown",
   "metadata": {},
   "source": [
    "### What does pandas do\n",
    "\n",
    "- Loads data from files to a common work environment, it can work with file types like .csv, .xlsx, .hd5, SQL files, etc..\n",
    "- Provides data structures that has many inbuilt methods to interact with data\n",
    "\n",
    "-----\n",
    "   ##### It helps in \n",
    "- Analysing the data\n",
    "- Manipulating the Data\n",
    "- Perform basic visualisations\n",
    "- Perform Feature Engineering (Nothing but manipulating data based on our analysis)."
   ]
  },
  {
   "cell_type": "markdown",
   "metadata": {},
   "source": [
    "#### Data Types in Pandas\n",
    "- Series      (1D)\n",
    "- Data Frames (2D)\n",
    "- Panel  (Multi Dimensional)\n",
    "\n",
    "----\n",
    "\n",
    "- we work a lot with Series and Data Frames in real world, compared to panels (atleast in the basic level)."
   ]
  },
  {
   "cell_type": "markdown",
   "metadata": {},
   "source": [
    "#### Some Common points to note \n",
    "- Strings are represented as object type in pandas.\n",
    "- float is a commonly used numercial type compared to integer.\n",
    "- There are several types of data namely **_Categorical, Nominal, Ordinal_** which are very important to deal with.\n",
    "- There are **_Outliers_**, which affet the generalisation of the data, so they should be handled properly.\n",
    "- It is imp to know which operation is **inplace** and which is not (_Remember me if I forget to explain this_) "
   ]
  },
  {
   "cell_type": "code",
   "execution_count": 1,
   "metadata": {},
   "outputs": [],
   "source": [
    "# importing necessary libraries with commonly used aliases\n",
    "\n",
    "import pandas as pd\n",
    "\n",
    "# don't worry about the following we'll discuss them later.\n",
    "import numpy as np\n",
    "from datetime import datetime"
   ]
  },
  {
   "cell_type": "markdown",
   "metadata": {},
   "source": [
    "## Creation of a Pandas Series Object"
   ]
  },
  {
   "cell_type": "code",
   "execution_count": 2,
   "metadata": {},
   "outputs": [
    {
     "name": "stdout",
     "output_type": "stream",
     "text": [
      "0     10\n",
      "1     11\n",
      "2     12\n",
      "3     13\n",
      "4     14\n",
      "5     15\n",
      "6     16\n",
      "7     17\n",
      "8     18\n",
      "9     19\n",
      "10    20\n",
      "dtype: int64\n"
     ]
    }
   ],
   "source": [
    "# Creating a Series using array\n",
    "arr = list(range(10,21))\n",
    "ser_arr = pd.Series(arr)\n",
    "print(ser_arr)"
   ]
  },
  {
   "cell_type": "code",
   "execution_count": 3,
   "metadata": {},
   "outputs": [
    {
     "data": {
      "text/plain": [
       "dtype('int64')"
      ]
     },
     "execution_count": 3,
     "metadata": {},
     "output_type": "execute_result"
    }
   ],
   "source": [
    "ser_arr.dtype"
   ]
  },
  {
   "cell_type": "code",
   "execution_count": 4,
   "metadata": {},
   "outputs": [
    {
     "data": {
      "text/plain": [
       "(11,)"
      ]
     },
     "execution_count": 4,
     "metadata": {},
     "output_type": "execute_result"
    }
   ],
   "source": [
    "ser_arr.shape"
   ]
  },
  {
   "cell_type": "code",
   "execution_count": 5,
   "metadata": {},
   "outputs": [
    {
     "name": "stdout",
     "output_type": "stream",
     "text": [
      "0   -0.178318\n",
      "1   -0.448127\n",
      "2   -0.782835\n",
      "3   -1.132131\n",
      "4   -1.162446\n",
      "5   -0.322369\n",
      "6   -0.575492\n",
      "7    0.776008\n",
      "8   -0.223818\n",
      "9    2.472755\n",
      "dtype: float64\n"
     ]
    }
   ],
   "source": [
    "# Creating a Series using numpy array\n",
    "np_arr = np.random.randn(10)\n",
    "ser_np_arr = pd.Series(np_arr)\n",
    "print(ser_np_arr)"
   ]
  },
  {
   "cell_type": "code",
   "execution_count": 6,
   "metadata": {},
   "outputs": [
    {
     "name": "stdout",
     "output_type": "stream",
     "text": [
      "{'a': 0, 'b': 1, 'c': 2, 'd': 3, 'e': 4, 'f': 5, 'g': 6, 'h': 7, 'i': 8, 'j': 9}\n",
      "a    0\n",
      "b    1\n",
      "c    2\n",
      "d    3\n",
      "e    4\n",
      "f    5\n",
      "g    6\n",
      "h    7\n",
      "i    8\n",
      "j    9\n",
      "dtype: int64\n"
     ]
    }
   ],
   "source": [
    "# creating a Series using dictionary\n",
    "dic = dict()\n",
    "for i in range(10):\n",
    "    dic[chr(ord('a')+i)] = i\n",
    "print(dic)\n",
    "\n",
    "ser_dic = pd.Series(dic)\n",
    "\n",
    "print(ser_dic)"
   ]
  },
  {
   "cell_type": "code",
   "execution_count": 7,
   "metadata": {},
   "outputs": [
    {
     "name": "stdout",
     "output_type": "stream",
     "text": [
      "k    0\n",
      "l    1\n",
      "m    2\n",
      "n    3\n",
      "o    4\n",
      "p    5\n",
      "q    6\n",
      "r    7\n",
      "s    8\n",
      "t    9\n",
      "dtype: int64\n"
     ]
    }
   ],
   "source": [
    "# changing the index of Series\n",
    "ser_dic.index = [chr(ord('k')+i) for i in range(10)]\n",
    "# if no. of elements in Index doesn't match with no. of data elements in Series, it would raise an error.\n",
    "\n",
    "print(ser_dic)"
   ]
  },
  {
   "cell_type": "code",
   "execution_count": 8,
   "metadata": {},
   "outputs": [
    {
     "name": "stdout",
     "output_type": "stream",
     "text": [
      "Name    Pardhu\n",
      "Age         21\n",
      "Dept       CSE\n",
      "Sem         VI\n",
      "dtype: object\n"
     ]
    }
   ],
   "source": [
    "# creating a Series object with heterogenous data\n",
    "dic = {'Name':'Pardhu','Age':21,'Dept':'CSE','Sem':'VI'}\n",
    "pardhu = pd.Series(dic)\n",
    "print(pardhu)"
   ]
  },
  {
   "cell_type": "code",
   "execution_count": 9,
   "metadata": {},
   "outputs": [
    {
     "name": "stdout",
     "output_type": "stream",
     "text": [
      "Name    Pardhu\n",
      "Age         21\n",
      "Dept       CSE\n",
      "Sem         VI\n",
      "dtype: object\n"
     ]
    }
   ],
   "source": [
    "#creating same series as above in a different way\n",
    "pardhu_way2 = pd.Series(['Pardhu',21,'CSE','VI'], index=['Name','Age','Dept','Sem'])\n",
    "print(pardhu_way2)"
   ]
  },
  {
   "cell_type": "markdown",
   "metadata": {},
   "source": [
    "## Accessing elements from a Series Object"
   ]
  },
  {
   "cell_type": "code",
   "execution_count": 10,
   "metadata": {},
   "outputs": [
    {
     "name": "stdout",
     "output_type": "stream",
     "text": [
      "Pardhu\n",
      "2\n",
      "16\n",
      "----------------\n",
      "Pardhu\n",
      "2\n",
      "16\n"
     ]
    }
   ],
   "source": [
    "# the primary way is to acess it as a dictionary in python \n",
    "print(pardhu['Name'])\n",
    "print(ser_dic['m'])\n",
    "print(ser_arr[6])\n",
    "\n",
    "print('----------------')\n",
    "\n",
    "#using a method called loc --> location\n",
    "print(pardhu.loc['Name'])\n",
    "print(ser_dic.loc['m'])\n",
    "print(ser_arr.loc[6])"
   ]
  },
  {
   "cell_type": "code",
   "execution_count": 11,
   "metadata": {},
   "outputs": [
    {
     "name": "stdout",
     "output_type": "stream",
     "text": [
      "21\n",
      "4\n",
      "----------------\n",
      "21\n",
      "4\n"
     ]
    }
   ],
   "source": [
    "# every series object has a 0 based indexing irrespective of what index it has explicitly.\n",
    "print(pardhu[1])   # our index label 'Age'\n",
    "print(ser_dic[4])  # our index label 'o'\n",
    "\n",
    "print('----------------')\n",
    "\n",
    "#using a method called iloc --> index location\n",
    "print(pardhu.iloc[1])\n",
    "print(ser_dic.iloc[4])"
   ]
  },
  {
   "cell_type": "code",
   "execution_count": 12,
   "metadata": {},
   "outputs": [
    {
     "name": "stdout",
     "output_type": "stream",
     "text": [
      "Age      21\n",
      "Dept    CSE\n",
      "Sem      VI\n",
      "dtype: object\n",
      "Age      21\n",
      "Dept    CSE\n",
      "Sem      VI\n",
      "dtype: object\n",
      "---------------\n",
      "k    0\n",
      "m    2\n",
      "o    4\n",
      "q    6\n",
      "s    8\n",
      "dtype: int64\n",
      "k    0\n",
      "m    2\n",
      "o    4\n",
      "q    6\n",
      "s    8\n",
      "dtype: int64\n",
      "---------------\n",
      "1    11\n",
      "3    13\n",
      "5    15\n",
      "7    17\n",
      "9    19\n",
      "dtype: int64\n",
      "1    11\n",
      "3    13\n",
      "5    15\n",
      "7    17\n",
      "9    19\n",
      "dtype: int64\n"
     ]
    }
   ],
   "source": [
    "# Accessing multiple elements\n",
    "print(pardhu[[1,2,3]])\n",
    "print(pardhu.iloc[[1,2,3]])\n",
    "print('---------------')\n",
    "print(ser_dic[[0,2,4,6,8]])\n",
    "print(ser_dic.iloc[[0,2,4,6,8]])\n",
    "print('---------------')\n",
    "print(ser_arr[[1,3,5,7,9]])\n",
    "print(ser_arr.iloc[[1,3,5,7,9]])"
   ]
  },
  {
   "cell_type": "code",
   "execution_count": 13,
   "metadata": {},
   "outputs": [
    {
     "name": "stdout",
     "output_type": "stream",
     "text": [
      "Age      21\n",
      "Dept    CSE\n",
      "dtype: object\n",
      "---------------\n",
      "k    0\n",
      "m    2\n",
      "o    4\n",
      "q    6\n",
      "s    8\n",
      "dtype: int64\n",
      "---------------\n",
      "1    11\n",
      "3    13\n",
      "5    15\n",
      "7    17\n",
      "9    19\n",
      "dtype: int64\n"
     ]
    }
   ],
   "source": [
    "# Accesing multiple elements using Slicing (Same a slicing a list in python)\n",
    "print(pardhu[1:3])\n",
    "print('---------------')\n",
    "print(ser_dic[0:9:2])\n",
    "print('---------------')\n",
    "print(ser_arr[1:10:2])"
   ]
  },
  {
   "cell_type": "code",
   "execution_count": 14,
   "metadata": {},
   "outputs": [
    {
     "name": "stdout",
     "output_type": "stream",
     "text": [
      "k    0\n",
      "l    1\n",
      "m    2\n",
      "n    3\n",
      "o    4\n",
      "dtype: int64\n",
      "------------\n"
     ]
    },
    {
     "data": {
      "text/plain": [
       "k    0\n",
       "l    1\n",
       "m    2\n",
       "dtype: int64"
      ]
     },
     "execution_count": 14,
     "metadata": {},
     "output_type": "execute_result"
    }
   ],
   "source": [
    "# first five elements of a series\n",
    "print(ser_dic.head())\n",
    "\n",
    "print('------------')\n",
    "\n",
    "# if we pass an integer n to head, it would return first n rows\n",
    "ser_dic.head(3)"
   ]
  },
  {
   "cell_type": "code",
   "execution_count": 15,
   "metadata": {},
   "outputs": [
    {
     "name": "stdout",
     "output_type": "stream",
     "text": [
      "p    5\n",
      "q    6\n",
      "r    7\n",
      "s    8\n",
      "t    9\n",
      "dtype: int64\n",
      "-------\n",
      "q    6\n",
      "r    7\n",
      "s    8\n",
      "t    9\n",
      "dtype: int64\n"
     ]
    }
   ],
   "source": [
    "# last five elements of a series\n",
    "print(ser_dic.tail())\n",
    "\n",
    "print('-------')\n",
    "\n",
    "#if we pass an integer n to head, it would return last n rows\n",
    "print(ser_dic.tail(4))"
   ]
  },
  {
   "cell_type": "markdown",
   "metadata": {},
   "source": [
    "## Modifying elements of a series"
   ]
  },
  {
   "cell_type": "code",
   "execution_count": 16,
   "metadata": {},
   "outputs": [
    {
     "data": {
      "text/plain": [
       "k    0\n",
       "l    1\n",
       "m    2\n",
       "n    3\n",
       "o    4\n",
       "p    5\n",
       "q    6\n",
       "r    7\n",
       "s    8\n",
       "t    9\n",
       "dtype: int64"
      ]
     },
     "execution_count": 16,
     "metadata": {},
     "output_type": "execute_result"
    }
   ],
   "source": [
    "ser_dic"
   ]
  },
  {
   "cell_type": "code",
   "execution_count": 17,
   "metadata": {},
   "outputs": [
    {
     "data": {
      "text/plain": [
       "k     0\n",
       "l     1\n",
       "m    11\n",
       "n     3\n",
       "o     4\n",
       "dtype: int64"
      ]
     },
     "execution_count": 17,
     "metadata": {},
     "output_type": "execute_result"
    }
   ],
   "source": [
    "ser_dic['m'] = 11\n",
    "ser_dic.head()"
   ]
  },
  {
   "cell_type": "code",
   "execution_count": 18,
   "metadata": {},
   "outputs": [
    {
     "data": {
      "text/plain": [
       "Name    Pardhu\n",
       "Age         21\n",
       "Dept       CSE\n",
       "Sem       VIII\n",
       "dtype: object"
      ]
     },
     "execution_count": 18,
     "metadata": {},
     "output_type": "execute_result"
    }
   ],
   "source": [
    "pardhu['Sem'] = 'VIII'\n",
    "pardhu"
   ]
  },
  {
   "cell_type": "code",
   "execution_count": 19,
   "metadata": {},
   "outputs": [
    {
     "data": {
      "text/plain": [
       "k     0\n",
       "l     1\n",
       "m    11\n",
       "n    12\n",
       "o    13\n",
       "p    14\n",
       "dtype: int64"
      ]
     },
     "execution_count": 19,
     "metadata": {},
     "output_type": "execute_result"
    }
   ],
   "source": [
    "ser_dic[['m','n','o','p']] = [11,12,13,14]\n",
    "ser_dic.head(6)"
   ]
  },
  {
   "cell_type": "code",
   "execution_count": 20,
   "metadata": {},
   "outputs": [
    {
     "data": {
      "text/plain": [
       "k     0\n",
       "l     1\n",
       "m    17\n",
       "n    12\n",
       "o    13\n",
       "dtype: int64"
      ]
     },
     "execution_count": 20,
     "metadata": {},
     "output_type": "execute_result"
    }
   ],
   "source": [
    "ser_dic.iloc[2] = 17\n",
    "ser_dic.head()"
   ]
  },
  {
   "cell_type": "code",
   "execution_count": 21,
   "metadata": {},
   "outputs": [
    {
     "data": {
      "text/plain": [
       "k    18\n",
       "l     1\n",
       "m    17\n",
       "n    12\n",
       "o    13\n",
       "dtype: int64"
      ]
     },
     "execution_count": 21,
     "metadata": {},
     "output_type": "execute_result"
    }
   ],
   "source": [
    "ser_dic.loc['k'] = 18\n",
    "ser_dic.head()"
   ]
  },
  {
   "cell_type": "markdown",
   "metadata": {},
   "source": [
    "# Mathematical operations"
   ]
  },
  {
   "cell_type": "code",
   "execution_count": 22,
   "metadata": {},
   "outputs": [
    {
     "data": {
      "text/plain": [
       "k    18\n",
       "l     1\n",
       "m    17\n",
       "n    12\n",
       "o    13\n",
       "p    14\n",
       "q     6\n",
       "r     7\n",
       "s     8\n",
       "t     9\n",
       "dtype: int64"
      ]
     },
     "execution_count": 22,
     "metadata": {},
     "output_type": "execute_result"
    }
   ],
   "source": [
    "ser_dic"
   ]
  },
  {
   "cell_type": "code",
   "execution_count": 23,
   "metadata": {},
   "outputs": [
    {
     "name": "stdout",
     "output_type": "stream",
     "text": [
      "Sum: 105\n",
      "Mean: 10.5\n",
      "Standard Deviation: 5.275730597114805\n"
     ]
    }
   ],
   "source": [
    "print('Sum:',ser_dic.sum())\n",
    "print('Mean:',ser_dic.mean())\n",
    "print('Standard Deviation:',ser_dic.std())"
   ]
  },
  {
   "cell_type": "code",
   "execution_count": 24,
   "metadata": {},
   "outputs": [
    {
     "name": "stdout",
     "output_type": "stream",
     "text": [
      "18\n",
      "1\n"
     ]
    }
   ],
   "source": [
    "print(ser_dic.max())\n",
    "print(ser_dic.min())"
   ]
  },
  {
   "cell_type": "code",
   "execution_count": 25,
   "metadata": {},
   "outputs": [
    {
     "name": "stdout",
     "output_type": "stream",
     "text": [
      "k\n",
      "l\n"
     ]
    }
   ],
   "source": [
    "print(ser_dic.idxmax())\n",
    "print(ser_dic.idxmin())"
   ]
  },
  {
   "cell_type": "code",
   "execution_count": 26,
   "metadata": {},
   "outputs": [
    {
     "name": "stdout",
     "output_type": "stream",
     "text": [
      "0    0\n",
      "1    0\n",
      "2    0\n",
      "3    0\n",
      "4    0\n",
      "5    0\n",
      "6    0\n",
      "7    0\n",
      "8    0\n",
      "9    0\n",
      "dtype: int64\n"
     ]
    }
   ],
   "source": [
    "all_falses = pd.Series([0]*10)\n",
    "print(all_falses)"
   ]
  },
  {
   "cell_type": "code",
   "execution_count": 27,
   "metadata": {},
   "outputs": [
    {
     "name": "stdout",
     "output_type": "stream",
     "text": [
      "False\n",
      "False\n"
     ]
    }
   ],
   "source": [
    "# checking if all the elements are non zeros\n",
    "print(all_falses.all())\n",
    "\n",
    "# checking if any one the elements is non Zero\n",
    "print(all_falses.any())"
   ]
  },
  {
   "cell_type": "code",
   "execution_count": 28,
   "metadata": {},
   "outputs": [],
   "source": [
    "# let's try changing a value in all_falses\n",
    "all_falses[4] = 'Pardhu'\n",
    "all_falses[6] = 7\n",
    "all_falses[2] = True"
   ]
  },
  {
   "cell_type": "markdown",
   "metadata": {},
   "source": [
    "# Miscellaneous"
   ]
  },
  {
   "cell_type": "code",
   "execution_count": 29,
   "metadata": {},
   "outputs": [],
   "source": [
    "ser = pd.Series([1,2,3,np.NaN,4,3,2,1,np.NaN,5,6,4,3,np.NaN,2,1])"
   ]
  },
  {
   "cell_type": "code",
   "execution_count": 30,
   "metadata": {},
   "outputs": [
    {
     "data": {
      "text/plain": [
       "0     False\n",
       "1     False\n",
       "2     False\n",
       "3      True\n",
       "4     False\n",
       "5     False\n",
       "6     False\n",
       "7     False\n",
       "8      True\n",
       "9     False\n",
       "10    False\n",
       "11    False\n",
       "12    False\n",
       "13     True\n",
       "14    False\n",
       "15    False\n",
       "dtype: bool"
      ]
     },
     "execution_count": 30,
     "metadata": {},
     "output_type": "execute_result"
    }
   ],
   "source": [
    "ser.isnull()"
   ]
  },
  {
   "cell_type": "code",
   "execution_count": 31,
   "metadata": {},
   "outputs": [
    {
     "data": {
      "text/plain": [
       "True"
      ]
     },
     "execution_count": 31,
     "metadata": {},
     "output_type": "execute_result"
    }
   ],
   "source": [
    "ser.isnull().any()"
   ]
  },
  {
   "cell_type": "code",
   "execution_count": 32,
   "metadata": {},
   "outputs": [
    {
     "data": {
      "text/plain": [
       "False"
      ]
     },
     "execution_count": 32,
     "metadata": {},
     "output_type": "execute_result"
    }
   ],
   "source": [
    "ser.isnull().all()"
   ]
  },
  {
   "cell_type": "code",
   "execution_count": 33,
   "metadata": {},
   "outputs": [
    {
     "data": {
      "text/plain": [
       "array([ 1.,  2.,  3., nan,  4.,  5.,  6.])"
      ]
     },
     "execution_count": 33,
     "metadata": {},
     "output_type": "execute_result"
    }
   ],
   "source": [
    "# gives all the elements in the Series only once.\n",
    "ser.unique()"
   ]
  },
  {
   "cell_type": "code",
   "execution_count": 34,
   "metadata": {},
   "outputs": [
    {
     "data": {
      "text/plain": [
       "6"
      ]
     },
     "execution_count": 34,
     "metadata": {},
     "output_type": "execute_result"
    }
   ],
   "source": [
    "# no, of elements which occured atleast once\n",
    "ser.nunique()"
   ]
  },
  {
   "cell_type": "code",
   "execution_count": 35,
   "metadata": {},
   "outputs": [
    {
     "data": {
      "text/plain": [
       "3.0    3\n",
       "2.0    3\n",
       "1.0    3\n",
       "4.0    2\n",
       "6.0    1\n",
       "5.0    1\n",
       "dtype: int64"
      ]
     },
     "execution_count": 35,
     "metadata": {},
     "output_type": "execute_result"
    }
   ],
   "source": [
    "# gives each element and the no.of occurances of that element\n",
    "ser.value_counts()"
   ]
  },
  {
   "cell_type": "code",
   "execution_count": 36,
   "metadata": {},
   "outputs": [
    {
     "data": {
      "text/plain": [
       "0      True\n",
       "1     False\n",
       "2     False\n",
       "3     False\n",
       "4     False\n",
       "5     False\n",
       "6     False\n",
       "7      True\n",
       "8     False\n",
       "9     False\n",
       "10    False\n",
       "11    False\n",
       "12    False\n",
       "13    False\n",
       "14    False\n",
       "15     True\n",
       "dtype: bool"
      ]
     },
     "execution_count": 36,
     "metadata": {},
     "output_type": "execute_result"
    }
   ],
   "source": [
    "ser==1"
   ]
  },
  {
   "cell_type": "code",
   "execution_count": 37,
   "metadata": {},
   "outputs": [
    {
     "data": {
      "text/plain": [
       "0     1.0\n",
       "1     2.0\n",
       "2     3.0\n",
       "4     4.0\n",
       "5     3.0\n",
       "6     2.0\n",
       "7     1.0\n",
       "9     5.0\n",
       "11    4.0\n",
       "12    3.0\n",
       "14    2.0\n",
       "15    1.0\n",
       "dtype: float64"
      ]
     },
     "execution_count": 37,
     "metadata": {},
     "output_type": "execute_result"
    }
   ],
   "source": [
    "ser[ser<6]\n",
    "# element with index 8 is missing since it's not <6"
   ]
  },
  {
   "cell_type": "code",
   "execution_count": 38,
   "metadata": {},
   "outputs": [
    {
     "data": {
      "text/plain": [
       "k    18\n",
       "l     1\n",
       "m    17\n",
       "n    12\n",
       "o    13\n",
       "p    14\n",
       "q     6\n",
       "r     7\n",
       "s     8\n",
       "t     9\n",
       "dtype: int64"
      ]
     },
     "execution_count": 38,
     "metadata": {},
     "output_type": "execute_result"
    }
   ],
   "source": [
    "ser_dic"
   ]
  },
  {
   "cell_type": "code",
   "execution_count": 39,
   "metadata": {},
   "outputs": [
    {
     "data": {
      "text/plain": [
       "l     1\n",
       "q     6\n",
       "r     7\n",
       "s     8\n",
       "t     9\n",
       "n    12\n",
       "o    13\n",
       "p    14\n",
       "m    17\n",
       "k    18\n",
       "dtype: int64"
      ]
     },
     "execution_count": 39,
     "metadata": {},
     "output_type": "execute_result"
    }
   ],
   "source": [
    "# default is ascending\n",
    "ser_dic = ser_dic.sort_values()\n",
    "ser_dic"
   ]
  },
  {
   "cell_type": "code",
   "execution_count": 40,
   "metadata": {},
   "outputs": [
    {
     "data": {
      "text/plain": [
       "k    18\n",
       "l     1\n",
       "m    17\n",
       "n    12\n",
       "o    13\n",
       "p    14\n",
       "q     6\n",
       "r     7\n",
       "s     8\n",
       "t     9\n",
       "dtype: int64"
      ]
     },
     "execution_count": 40,
     "metadata": {},
     "output_type": "execute_result"
    }
   ],
   "source": [
    "ser_dic = ser_dic.sort_index()\n",
    "ser_dic"
   ]
  },
  {
   "cell_type": "code",
   "execution_count": 41,
   "metadata": {},
   "outputs": [
    {
     "data": {
      "text/plain": [
       "0   -5\n",
       "1   -4\n",
       "2   -3\n",
       "3   -2\n",
       "4   -1\n",
       "5    0\n",
       "6    1\n",
       "7    2\n",
       "8    3\n",
       "9    4\n",
       "dtype: int64"
      ]
     },
     "execution_count": 41,
     "metadata": {},
     "output_type": "execute_result"
    }
   ],
   "source": [
    "neg_pos = pd.Series(list(range(-5,5)))\n",
    "neg_pos"
   ]
  },
  {
   "cell_type": "code",
   "execution_count": 42,
   "metadata": {},
   "outputs": [
    {
     "data": {
      "text/plain": [
       "0    5\n",
       "1    4\n",
       "2    3\n",
       "3    2\n",
       "4    1\n",
       "5    0\n",
       "6    1\n",
       "7    2\n",
       "8    3\n",
       "9    4\n",
       "dtype: int64"
      ]
     },
     "execution_count": 42,
     "metadata": {},
     "output_type": "execute_result"
    }
   ],
   "source": [
    "neg_pos.abs()"
   ]
  },
  {
   "cell_type": "code",
   "execution_count": 43,
   "metadata": {},
   "outputs": [
    {
     "data": {
      "text/plain": [
       "X0   -5\n",
       "X1   -4\n",
       "X2   -3\n",
       "X3   -2\n",
       "X4   -1\n",
       "X5    0\n",
       "X6    1\n",
       "X7    2\n",
       "X8    3\n",
       "X9    4\n",
       "dtype: int64"
      ]
     },
     "execution_count": 43,
     "metadata": {},
     "output_type": "execute_result"
    }
   ],
   "source": [
    "neg_pos.add_prefix('X')"
   ]
  },
  {
   "cell_type": "code",
   "execution_count": 44,
   "metadata": {},
   "outputs": [
    {
     "data": {
      "text/plain": [
       "0Y   -5\n",
       "1Y   -4\n",
       "2Y   -3\n",
       "3Y   -2\n",
       "4Y   -1\n",
       "5Y    0\n",
       "6Y    1\n",
       "7Y    2\n",
       "8Y    3\n",
       "9Y    4\n",
       "dtype: int64"
      ]
     },
     "execution_count": 44,
     "metadata": {},
     "output_type": "execute_result"
    }
   ],
   "source": [
    "neg_pos.add_suffix('Y')"
   ]
  },
  {
   "cell_type": "code",
   "execution_count": 45,
   "metadata": {},
   "outputs": [
    {
     "data": {
      "text/plain": [
       "0   -125\n",
       "1    -64\n",
       "2    -27\n",
       "3     -8\n",
       "4     -1\n",
       "5      0\n",
       "6      1\n",
       "7      4\n",
       "8      9\n",
       "9     16\n",
       "dtype: int64"
      ]
     },
     "execution_count": 45,
     "metadata": {},
     "output_type": "execute_result"
    }
   ],
   "source": [
    "neg_pos.apply(lambda x: x**2 if x>0 else x**3)"
   ]
  },
  {
   "cell_type": "code",
   "execution_count": 46,
   "metadata": {},
   "outputs": [
    {
     "name": "stdout",
     "output_type": "stream",
     "text": [
      "0     0\n",
      "1     1\n",
      "2     2\n",
      "3     3\n",
      "4     4\n",
      "0     5\n",
      "1     6\n",
      "2     7\n",
      "3     8\n",
      "4     9\n",
      "5    10\n",
      "dtype: int64\n",
      "0      0\n",
      "1      1\n",
      "2      2\n",
      "3      3\n",
      "4      4\n",
      "5      5\n",
      "6      6\n",
      "7      7\n",
      "8      8\n",
      "9      9\n",
      "10    10\n",
      "dtype: int64\n"
     ]
    }
   ],
   "source": [
    "a = pd.Series(list(range(5)))\n",
    "b = pd.Series(list(range(5,11)))\n",
    "print(a.append(b)) # doesn't ignore index, keep the series' own index\n",
    "print(a.append(b, ignore_index=1)) # creates a new index"
   ]
  },
  {
   "cell_type": "code",
   "execution_count": 47,
   "metadata": {},
   "outputs": [
    {
     "data": {
      "text/plain": [
       "0    0.0\n",
       "1    1.0\n",
       "2    2.0\n",
       "3    3.0\n",
       "4    4.0\n",
       "dtype: float64"
      ]
     },
     "execution_count": 47,
     "metadata": {},
     "output_type": "execute_result"
    }
   ],
   "source": [
    "a.astype('float')"
   ]
  },
  {
   "cell_type": "code",
   "execution_count": 48,
   "metadata": {},
   "outputs": [
    {
     "data": {
      "text/plain": [
       "0    False\n",
       "1     True\n",
       "2     True\n",
       "3     True\n",
       "4     True\n",
       "dtype: bool"
      ]
     },
     "execution_count": 48,
     "metadata": {},
     "output_type": "execute_result"
    }
   ],
   "source": [
    "a.between(1,10)"
   ]
  },
  {
   "cell_type": "code",
   "execution_count": 49,
   "metadata": {},
   "outputs": [],
   "source": [
    "c = pd.Series(list(range(2,10)))"
   ]
  },
  {
   "cell_type": "code",
   "execution_count": 50,
   "metadata": {},
   "outputs": [
    {
     "data": {
      "text/plain": [
       "0    4\n",
       "1    4\n",
       "2    4\n",
       "3    5\n",
       "4    6\n",
       "5    7\n",
       "6    7\n",
       "7    7\n",
       "dtype: int64"
      ]
     },
     "execution_count": 50,
     "metadata": {},
     "output_type": "execute_result"
    }
   ],
   "source": [
    "# all the elements that are less than lower are changed to lower\n",
    "# all the elements that are greater than upper are changed to upper\n",
    "# all the elements that are in between lower and upper are left as they are.\n",
    "c.clip(lower=4, upper=7)"
   ]
  },
  {
   "cell_type": "code",
   "execution_count": 51,
   "metadata": {},
   "outputs": [
    {
     "data": {
      "text/plain": [
       "0    2\n",
       "1    3\n",
       "2    4\n",
       "3    5\n",
       "4    6\n",
       "5    7\n",
       "6    8\n",
       "7    9\n",
       "dtype: int64"
      ]
     },
     "execution_count": 51,
     "metadata": {},
     "output_type": "execute_result"
    }
   ],
   "source": [
    "# Gives cummulative max upto that index\n",
    "c.cummax()"
   ]
  },
  {
   "cell_type": "code",
   "execution_count": 52,
   "metadata": {},
   "outputs": [
    {
     "data": {
      "text/plain": [
       "0    2\n",
       "1    2\n",
       "2    2\n",
       "3    2\n",
       "4    2\n",
       "5    2\n",
       "6    2\n",
       "7    2\n",
       "dtype: int64"
      ]
     },
     "execution_count": 52,
     "metadata": {},
     "output_type": "execute_result"
    }
   ],
   "source": [
    "# Gives cummulative min upto that index\n",
    "c.cummin()"
   ]
  },
  {
   "cell_type": "markdown",
   "metadata": {},
   "source": [
    "# Ok let's move to Data Frames now... Bye :)"
   ]
  },
  {
   "cell_type": "code",
   "execution_count": null,
   "metadata": {},
   "outputs": [],
   "source": []
  }
 ],
 "metadata": {
  "kernelspec": {
   "display_name": "Python 3",
   "language": "python",
   "name": "python3"
  },
  "language_info": {
   "codemirror_mode": {
    "name": "ipython",
    "version": 3
   },
   "file_extension": ".py",
   "mimetype": "text/x-python",
   "name": "python",
   "nbconvert_exporter": "python",
   "pygments_lexer": "ipython3",
   "version": "3.6.5"
  }
 },
 "nbformat": 4,
 "nbformat_minor": 2
}
